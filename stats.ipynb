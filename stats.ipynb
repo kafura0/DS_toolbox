{
 "cells": [
  {
   "cell_type": "code",
   "execution_count": 1,
   "metadata": {},
   "outputs": [],
   "source": [
    "# librbaries\n",
    "\n",
    "import numpy as np\n",
    "import pandas as pd\n",
    "import matplotlib.pyplot as plt\n",
    "%matplotlib inline\n",
    "import scipy.stats as stats\n",
    "import math\n",
    "import seaborn as sns\n",
    "from collections import Counter\n",
    "import itertools\n",
    "np.random.seed(0) # set a random seed for reproducibility"
   ]
  },
  {
   "attachments": {},
   "cell_type": "markdown",
   "metadata": {},
   "source": [
    "# 13. CENTRAL LIMIT THEOREM\n",
    "working with non-normally distributed datasets as it they were if they were normally distributed\n",
    "NB: sample size of 30 is where CLT begins to kick-in though no magic numbers\n",
    "*** Central Limit Theorem is that the mean and standard deviation of the sampling distribution should also approximate the population mean and standard deviation from the original non-normal dataset ***"
   ]
  },
  {
   "attachments": {},
   "cell_type": "markdown",
   "metadata": {},
   "source": [
    "## 13.1: Detecting non-normal datasets\n",
    "There are 2 main ways \n",
    "1. plot the data and visually check \n",
    "    i.e sns.displot(data, kde= True);\n",
    "        stats.normaltest(data)"
   ]
  },
  {
   "attachments": {},
   "cell_type": "markdown",
   "metadata": {},
   "source": [
    "Sampling with replacement"
   ]
  },
  {
   "cell_type": "code",
   "execution_count": null,
   "metadata": {},
   "outputs": [],
   "source": [
    "\"\"\"\n",
    "function that takes in an array of numbers data and \n",
    "a sample size n and returns an array that is a random \n",
    "sample of data, of size n.\n",
    "\"\"\"\n",
    "def get_sample(data, n):\n",
    "    samples = []\n",
    "    for k in np.arange(n):\n",
    "        samples.append(data[np.random.randint(0,n)])\n",
    "    return samples\n",
    "\n",
    "#test_sample = get_sample(data, 30)\n",
    "#print(test_sample[:5]) "
   ]
  },
  {
   "attachments": {},
   "cell_type": "markdown",
   "metadata": {},
   "source": [
    "Generating a sample mean"
   ]
  },
  {
   "cell_type": "code",
   "execution_count": null,
   "metadata": {},
   "outputs": [],
   "source": [
    "\"\"\"\n",
    "helper function that takes in a sample and returns the mean\n",
    " of that sample.\n",
    "\"\"\"\n",
    "def get_sample_mean(sample):\n",
    "    return sum(sample)/len(sample)\n",
    "\n",
    "# test_sample2 = get_sample(data, 30)\n",
    "# test_sample2_mean = get_sample_mean(test_sample2)\n",
    "# print(test_sample2_mean)"
   ]
  },
  {
   "attachments": {},
   "cell_type": "markdown",
   "metadata": {},
   "source": [
    "Generating a Sample Mean"
   ]
  },
  {
   "cell_type": "code",
   "execution_count": null,
   "metadata": {},
   "outputs": [],
   "source": [
    "\"\"\"\n",
    "helper function that takes in a sample \n",
    "and returns the mean of that sample.\n",
    "\"\"\"\n",
    "def get_sample_mean(sample):\n",
    "    return sum(sample)/len(sample)\n",
    "\n",
    "# test_sample2 = get_sample(data, 30)\n",
    "# test_sample2_mean = get_sample_mean(test_sample2)\n",
    "# print(test_sample2_mean)"
   ]
  },
  {
   "attachments": {},
   "cell_type": "markdown",
   "metadata": {},
   "source": [
    "Creating a Sampling Distribution of Sample Means"
   ]
  },
  {
   "cell_type": "code",
   "execution_count": null,
   "metadata": {},
   "outputs": [],
   "source": [
    "\"\"\"\n",
    "helper functions to help us sample with replacement and calculate \n",
    "sample means, we just need to bring it all together and write a \n",
    "function that creates a sampling distribution of sample means.\n",
    "inputs: \n",
    "    the dataset, \n",
    "    the size of the distribution to create, \n",
    "    the size of each individual sample\n",
    "\n",
    "\"\"\"\n",
    "def create_sample_distribution(data, dist_size=100, n=30):\n",
    "    sample_means = []\n",
    "    for j in np.arange(dist_size):\n",
    "        sample = get_sample(data, n)\n",
    "        sample_means.append(get_sample_mean(sample))\n",
    "    return sample_means    \n",
    "\n",
    "\n",
    "# test_sample_dist = create_sample_distribution(data)\n",
    "# print(test_sample_dist[:5]) "
   ]
  },
  {
   "attachments": {},
   "cell_type": "markdown",
   "metadata": {},
   "source": [
    "Visualizing the Sampling Distribution as it Becomes Normal\n",
    "* create some sampling distributions of different sizes and watch the Central Limit Theorem kick in. As the sample size increases, you'll see the distributions begin to approximate a normal distribution more closely."
   ]
  },
  {
   "cell_type": "code",
   "execution_count": null,
   "metadata": {},
   "outputs": [],
   "source": [
    "\"\"\"\n",
    "create a sampling distribution from \n",
    "data of dist_size 10, with a sample size n of 3\n",
    "next: dist_size to 30, and n to 10\n",
    "next: dist_size 1000 and n of 30\n",
    "\n",
    "\"\"\"\n",
    "# dist_1 = create_sample_distribution(data, dist_size = 10, n=3)\n",
    "# sns.displot(dist_1, kde=True);"
   ]
  },
  {
   "attachments": {},
   "cell_type": "markdown",
   "metadata": {},
   "source": [
    "## 13.2: Sampling statistics\n",
    "The average of a sample is known as the sample mean. Sampling distribution can be thought of as relative frequency distribution with a large number of samples. A relative frequency distribution tends to approach the sampling distribution as the number of samples increase.\n",
    "Objectives\n",
    "* Calculate and interpret sampling error\n",
    "* Explain how sample size is related to sampling error\n",
    "* Explain how the sampling error is related to population standard deviation\n",
    "* background: \n",
    "take a random sample and use sample mean, ( x_bar or  𝑥¯\n",
    "  ) to estimate the population mean ( mu or  𝜇\n",
    "  ). The sample mean is usually not exactly the same as the population mean and depends upon the values of samples chosen, however, the population mean remains fixed. While using the sample mean to estimate the population mean, we come across the sampling error, which directly relates to the standard deviation of a sampling statistic (e.g. mean values)."
   ]
  },
  {
   "attachments": {},
   "cell_type": "markdown",
   "metadata": {},
   "source": [
    "Step 1\n",
    "\n",
    "calculate the population mean first, which we calculate as:\n",
    "\n",
    "**$\\large \\mu = \\frac{\\text{sum of all elements}}{N}$**, where N is population size."
   ]
  },
  {
   "attachments": {},
   "cell_type": "markdown",
   "metadata": {},
   "source": [
    "Step 2 : Calculate the mean of samples\n",
    "Sample size and sampling error:\n",
    "Sample means cluster more closely around the population mean as the sample size increases. Thus, sampling error decreases as sample size increases."
   ]
  },
  {
   "attachments": {},
   "cell_type": "markdown",
   "metadata": {},
   "source": [
    "Step 3: Calculate the standard error\n",
    "\n",
    "The **_Standard Error (SE)_** is very similar to the standard deviation. Both are measures of spread. The higher the number, the more spread out your data is. To put it simply, the two terms are essentially equal — but there is one important difference. While the standard error uses statistics (sample data), standard deviations use parameters (population data). We achieve this by dividing the standard deviation by the square root of the sample size.\n",
    "\n",
    "The calculation for the standard error of the sample mean is:\n",
    "\n",
    "## $$ \\sigma_{\\bar{x}} = \\frac{\\sigma}{\\sqrt{n}} \\approx \\frac{s}{\\sqrt{n}}$$\n",
    "\n",
    "Here, $\\sigma$ is the population standard deviation (which we will approximate with the sample standard deviation $s$) and $n$ is the sample size.\n",
    "\n",
    "NB: If the sample size is increased, the standard error is reduced."
   ]
  },
  {
   "attachments": {},
   "cell_type": "markdown",
   "metadata": {},
   "source": [
    "## 13.3: Confidence intervals\n",
    "a sample data distribution is the distribution of the data points within a single sample. A sampling distribution is the probability distribution a statistic can take\n",
    "\n",
    "Objectives\n",
    "\n",
    "* Calculate confidence intervals\n",
    "* Interpret confidence intervals in relation to true population parameters\n",
    "\n",
    "NB: The Poisson distribution is the discrete probability distribution of the number of events occurring in a given time period, given the average number of times the event occurs over that time period.\n",
    "\n",
    "**_ Confidence Interval is a range of values above and below the point estimate that captures the true population parameter at some predetermined confidence level. If we want to have a 95% chance of capturing the true population parameter with a point estimate and a corresponding confidence interval, we would set the confidence level to 95%. Higher confidence levels result in wider confidence intervals. _**"
   ]
  },
  {
   "cell_type": "code",
   "execution_count": 1,
   "metadata": {},
   "outputs": [
    {
     "ename": "SyntaxError",
     "evalue": "invalid syntax (4089103057.py, line 2)",
     "output_type": "error",
     "traceback": [
      "\u001b[1;36m  Cell \u001b[1;32mIn[1], line 2\u001b[1;36m\u001b[0m\n\u001b[1;33m    **$\\large \\mu = \\frac{\\text{sum of all elements}}{N}$**, where N is population size.\u001b[0m\n\u001b[1;37m    ^\u001b[0m\n\u001b[1;31mSyntaxError\u001b[0m\u001b[1;31m:\u001b[0m invalid syntax\n"
     ]
    }
   ],
   "source": []
  },
  {
   "cell_type": "code",
   "execution_count": null,
   "metadata": {},
   "outputs": [],
   "source": []
  },
  {
   "attachments": {},
   "cell_type": "markdown",
   "metadata": {},
   "source": [
    "# Generating random numbers"
   ]
  },
  {
   "cell_type": "code",
   "execution_count": 2,
   "metadata": {},
   "outputs": [
    {
     "data": {
      "text/plain": [
       "2"
      ]
     },
     "execution_count": 2,
     "metadata": {},
     "output_type": "execute_result"
    }
   ],
   "source": [
    "import random\n",
    "\n",
    "random.randint(0,10)  # get a random varibale ina s[ecified range"
   ]
  },
  {
   "cell_type": "code",
   "execution_count": 3,
   "metadata": {},
   "outputs": [
    {
     "data": {
      "text/plain": [
       "4"
      ]
     },
     "execution_count": 3,
     "metadata": {},
     "output_type": "execute_result"
    }
   ],
   "source": [
    "random.choice([2,4,6,9])  # get a random element from a sequence"
   ]
  },
  {
   "cell_type": "code",
   "execution_count": 4,
   "metadata": {},
   "outputs": [
    {
     "data": {
      "text/plain": [
       "0.45884694506791757"
      ]
     },
     "execution_count": 4,
     "metadata": {},
     "output_type": "execute_result"
    }
   ],
   "source": [
    "random.random()  # get a real number between 0 and 1"
   ]
  },
  {
   "cell_type": "code",
   "execution_count": 5,
   "metadata": {},
   "outputs": [
    {
     "data": {
      "text/plain": [
       "9.02473362235568"
      ]
     },
     "execution_count": 5,
     "metadata": {},
     "output_type": "execute_result"
    }
   ],
   "source": [
    "random.uniform(0,10)  # get a real in  the specified range"
   ]
  },
  {
   "cell_type": "code",
   "execution_count": 6,
   "metadata": {},
   "outputs": [
    {
     "name": "stdout",
     "output_type": "stream",
     "text": [
      "[4.7457067868854805, 6.574725026572553, 6.664104711248381, 1.4260035292536777]\n",
      "[4.7457067868854805, 6.574725026572553, 6.664104711248381, 1.4260035292536777]\n"
     ]
    }
   ],
   "source": [
    "# but having varying numbers at each run is not reproducible\n",
    "# setting a random seed(sudo random) created by a deterministic with a set random \n",
    "random.seed(12)  # set the seed to an arbitrary value\n",
    "print([random.uniform(0,10) for x in range(4)])\n",
    "\n",
    "random.seed(12)  # set the seed to an arbitrary value\n",
    "print([random.uniform(0,10) for x in range(4)])\n",
    "\n",
    "#should produce the same values"
   ]
  },
  {
   "attachments": {},
   "cell_type": "markdown",
   "metadata": {},
   "source": [
    "When using functions and libraries built on top of numpy(pandas, scipy, scikitlearn) use np.random.seed"
   ]
  },
  {
   "attachments": {},
   "cell_type": "markdown",
   "metadata": {},
   "source": [
    "# The Normal Distribution\n",
    "\n",
    "* continuous probability distribution - BELL CURVE\n",
    "* mean and median are both at the center\n",
    "* 68% of data lies within 1 std of mean, 95% lie with 2std, 99.7% lie  within 3std. 2 and 3 std from the mean are observations that are fairly rare.\n",
    "* many things in nature follow this kind of distribution\n"
   ]
  },
  {
   "cell_type": "code",
   "execution_count": 7,
   "metadata": {},
   "outputs": [
    {
     "data": {
      "text/plain": [
       "<matplotlib.collections.PolyCollection at 0x20abda53820>"
      ]
     },
     "execution_count": 7,
     "metadata": {},
     "output_type": "execute_result"
    },
    {
     "data": {
      "image/png": "[encoded data removed]",
      "text/plain": [
       "<Figure size 700x700 with 1 Axes>"
      ]
     },
     "metadata": {},
     "output_type": "display_data"
    }
   ],
   "source": [
    "# plot normal distribution areas\n",
    "plt.rcParams['figure.figsize'] = (7,7)\n",
    "\n",
    "plt.fill_between(x = np.arange(-4,-1,0.01),\n",
    "                 y1 = stats.norm.pdf(np.arange(-4,-1,0.01)),\n",
    "                 facecolor = 'red',\n",
    "                 alpha = 0.35)\n",
    "\n",
    "plt.fill_between(x = np.arange(1,4,0.01),\n",
    "                 y1 = stats.norm.pdf(np.arange(1,4,0.01)),\n",
    "                 facecolor = 'red',\n",
    "                 alpha = 0.35)\n",
    "\n",
    "plt.fill_between(x = np.arange(-1,1,0.01),\n",
    "                 y1 = stats.norm.pdf(np.arange(-1,1,0.01)),\n",
    "                 facecolor = 'blue',\n",
    "                 alpha = 0.35)\n",
    "\n",
    "# plt.text(x=-1, y=0.03, s = round(prob_under_minus1,3))"
   ]
  },
  {
   "cell_type": "code",
   "execution_count": 8,
   "metadata": {},
   "outputs": [
    {
     "name": "stdout",
     "output_type": "stream",
     "text": [
      "-1.9599639845400545\n",
      "1.959963984540054\n"
     ]
    },
    {
     "data": {
      "text/plain": [
       "'\\ngives a range between 2 and -2 which shows that \\nmost of the data falls between this range as seen\\ni.e approx. 95% of the data lies 2std of the mean \\n'"
      ]
     },
     "execution_count": 8,
     "metadata": {},
     "output_type": "execute_result"
    }
   ],
   "source": [
    "# to check the normal distribution quantiles \n",
    "print(stats.norm.ppf(q = 0.025))  # find the quantile for the 2.5% cutoff\n",
    "print(stats.norm.ppf(q = 0.975)) # find the quantile for the 97.5% cutoff\n",
    "\n",
    "\"\"\"\n",
    "gives a range between 2 and -2 which shows that \n",
    "most of the data falls between this range as seen\n",
    "i.e approx. 95% of the data lies 2std of the mean \n",
    "\"\"\""
   ]
  },
  {
   "cell_type": "code",
   "execution_count": 9,
   "metadata": {},
   "outputs": [
    {
     "name": "stdout",
     "output_type": "stream",
     "text": [
      "0.0013498980316300933\n",
      "0.9986501019683699\n"
     ]
    },
    {
     "data": {
      "text/plain": [
       "'\\napprox. 99.7% of data is within 3std of the mean\\n'"
      ]
     },
     "execution_count": 9,
     "metadata": {},
     "output_type": "execute_result"
    }
   ],
   "source": [
    "# to check how much of the data lies beyond a certain cutoff\n",
    "print(stats.norm.cdf(x = -3))  # find how much of the data is below -3\n",
    "print(stats.norm.cdf(x = 3)) # find how much of the data is above 3\n",
    "\n",
    "\"\"\"\n",
    "approx. 99.7% of data is within 3std of the mean\n",
    "\"\"\""
   ]
  },
  {
   "attachments": {},
   "cell_type": "markdown",
   "metadata": {},
   "source": [
    "# Binomial Distribution\n",
    "* discrete dostribution that models the outcomes of a given number of random trails of some experiment or event.\n",
    "* defined by probability in any given trial and the number of trials\n",
    "* it tells how likely it is to achieve a given number of successes in n trials of an experiment\n",
    "# 17 mins in https://youtu.be/uial-2girHQ"
   ]
  },
  {
   "cell_type": "code",
   "execution_count": null,
   "metadata": {},
   "outputs": [],
   "source": []
  },
  {
   "cell_type": "code",
   "execution_count": null,
   "metadata": {},
   "outputs": [],
   "source": []
  },
  {
   "cell_type": "code",
   "execution_count": null,
   "metadata": {},
   "outputs": [],
   "source": []
  },
  {
   "attachments": {},
   "cell_type": "markdown",
   "metadata": {},
   "source": [
    "# HYPOTHESIS TESTING AND T-TESTS\n",
    "* point estimates and confidence intervals are basic inference tools that act as the foundation for hypothesis testing\n",
    "* it is a testing framework for determing whether the observed data deviates from the expect.\n",
    "* scipy.stats *\n",
    "\n",
    "* NULL-HYPOTHESIS assumes that nothing interesting is going on between variables being tested.i.e\n",
    "1. if you are testing whether groups differ, the NH states that the groups are the same\n",
    "2. Purpose is to determine whether the NH is likely to be true given sample data.\n",
    "\n",
    "* once you have the NH and the alternative at hand, you choose a significance level(alpha). Alpha is probability threshold that DETERMINES WHEN TO REJECT THE NH. Therefore, after carrying out a test, if the probability of getting a result as extreme as the one you observe due to chance is lower than the sigificance level, you rehect the NH in favor of the alternative. The probability of seeing a result as extreme/ more extreme than the one observed is known as P-VALUE.\n",
    "\n",
    "* T-TEST - is a statistical test used to determine whether a numeric data sample differs significanlty from the population or whether two sample differ from one another\n",
    "\n",
    "## One-Sample T-test\n",
    "* checks whether a sample mean differs from the population mean.\n",
    "* sample case:\n",
    "\n"
   ]
  },
  {
   "cell_type": "code",
   "execution_count": 10,
   "metadata": {},
   "outputs": [
    {
     "name": "stdout",
     "output_type": "stream",
     "text": [
      "43.000112\n",
      "39.26\n"
     ]
    },
    {
     "data": {
      "text/plain": [
       "'\\nthe minnesota age of voters is significantly\\n lower than the population age to voter\\n'"
      ]
     },
     "execution_count": 10,
     "metadata": {},
     "output_type": "execute_result"
    }
   ],
   "source": [
    "# create dummy age data for the population os voters in the entire country\n",
    "# and a sample of voters in Minnesots and test whether the \n",
    "# avg age of voters in Minnesots differs from the population\n",
    "\n",
    "np.random.seed(6)\n",
    "\n",
    "pop_ages1 = stats.poisson.rvs(loc=18, mu=35, size=150000)\n",
    "pop_ages2 = stats.poisson.rvs(loc=18, mu=10, size=100000)\n",
    "pop_ages = np.concatenate((pop_ages1, pop_ages2))\n",
    "\n",
    "minnesota_ages1 = stats.poisson.rvs(loc=18, mu=30, size=30)\n",
    "minnesota_ages2 = stats.poisson.rvs(loc=18, mu=10, size=20)\n",
    "minnesota_ages = np.concatenate((minnesota_ages1, minnesota_ages2))\n",
    "\n",
    "print(pop_ages.mean())\n",
    "print(minnesota_ages.mean())\n",
    "\n",
    "\"\"\"\n",
    "the minnesota age of voters is significantly\n",
    " lower than the population age to voter\n",
    "\"\"\""
   ]
  },
  {
   "attachments": {},
   "cell_type": "markdown",
   "metadata": {},
   "source": [
    "* Next conduct a t-test at 95% confidence level and see if it correctly rejects the NH that the sample comes from the same distribution as the population. \n",
    "* for a one sample t-test, we use the stats.ttest_1samp() function\n"
   ]
  },
  {
   "cell_type": "code",
   "execution_count": 11,
   "metadata": {},
   "outputs": [
    {
     "data": {
      "text/plain": [
       "'\\n* T = -2.574 tells how much the sample mean deviates from the NH. if it lies outside\\n the quantiles of the t-distrtibution corresponding to our confidence level and degrees of \\n freedom, we reject NH. check quantiles \\n stats.t.ppf(q=0.025, \\n             df=49)\\n'"
      ]
     },
     "execution_count": 11,
     "metadata": {},
     "output_type": "execute_result"
    }
   ],
   "source": [
    "stats.ttest_1samp(a=minnesota_ages,  # sample data\n",
    "                    popmean=pop_ages.mean()) # pop mean\n",
    "\n",
    "\"\"\"\n",
    "* T = -2.574 tells how much the sample mean deviates from the NH. if it lies outside\n",
    " the quantiles of the t-distrtibution corresponding to our confidence level and degrees of \n",
    " freedom, we reject NH. check quantiles \n",
    " stats.t.ppf(q=0.025, \n",
    "             df=49)\n",
    "\"\"\""
   ]
  },
  {
   "cell_type": "code",
   "execution_count": 12,
   "metadata": {},
   "outputs": [
    {
     "data": {
      "text/plain": [
       "'\\nif we see a value that is extreme enough there is something \\nthats interesting going on.\\n\\n-2.009 - is the lower quantile\\n'"
      ]
     },
     "execution_count": 12,
     "metadata": {},
     "output_type": "execute_result"
    }
   ],
   "source": [
    "stats.t.ppf(q=0.025, # quantile to check\n",
    "             df=49)   # degrees of freedom = size of sample - 1\n",
    "\n",
    "\"\"\"\n",
    "if we see a value that is extreme enough there is something \n",
    "thats interesting going on.\n",
    "\n",
    "-2.009 - is the lower quantile\n",
    "\"\"\""
   ]
  },
  {
   "cell_type": "code",
   "execution_count": 13,
   "metadata": {},
   "outputs": [
    {
     "data": {
      "text/plain": [
       "'\\n2.009 is the upper quantile.\\n\\n\\n'"
      ]
     },
     "execution_count": 13,
     "metadata": {},
     "output_type": "execute_result"
    }
   ],
   "source": [
    "stats.t.ppf(q=0.975, # quantile to check\n",
    "             df=49)   # degrees of freedom = size of sample - 1\n",
    "\"\"\"\n",
    "2.009 is the upper quantile.\n",
    "\n",
    "\n",
    "\"\"\""
   ]
  },
  {
   "attachments": {},
   "cell_type": "markdown",
   "metadata": {},
   "source": [
    "* this tells us that if we see a t-statistic that is outside of the range\n",
    "we've observed a result thats far enough away from our population mean\n",
    "then we can consider it different ans we'd accept the alternative hypothesis.\n",
    "\n",
    "* in this case -2.574 is below the the t-range hence the p-value is going to end up being smaller than 0.5"
   ]
  },
  {
   "cell_type": "code",
   "execution_count": 14,
   "metadata": {},
   "outputs": [
    {
     "data": {
      "text/plain": [
       "\"\\nNB: the alternative hypothesis we are checking whether the sample mean \\ndiffers(not equal to) the population mean. since the sample can either be \\nin the positive or negative direction we multiply by 2\\n\\n** P_VALUE of 0.01311 means we'd expect to see data sa extreme as our sample\\ndue to chance about 1.3% of the time if NH was true.\\nCONCLUSION: we reject the NH and accept the the distribution for minnesota voters \\nis actually different from the pop voters\\n\\n\""
      ]
     },
     "execution_count": 14,
     "metadata": {},
     "output_type": "execute_result"
    }
   ],
   "source": [
    "# calculate the p-value from the t-statistic\n",
    "# two tailed means we are looking at both sides\n",
    "stats.t.cdf(x=-2.5742, # t-test ststistic\n",
    "            df = 49) * 2 # multiply by two for the two tailed test\n",
    "\n",
    "\"\"\"\n",
    "NB: the alternative hypothesis we are checking whether the sample mean \n",
    "differs(not equal to) the population mean. since the sample can either be \n",
    "in the positive or negative direction we multiply by 2\n",
    "\n",
    "** P_VALUE of 0.01311 means we'd expect to see data sa extreme as our sample\n",
    "due to chance about 1.3% of the time if NH was true.\n",
    "CONCLUSION: we reject the NH and accept the the distribution for minnesota voters \n",
    "is actually different from the pop voters\n",
    "\n",
    "\"\"\"\n"
   ]
  },
  {
   "cell_type": "code",
   "execution_count": 15,
   "metadata": {},
   "outputs": [
    {
     "data": {
      "text/plain": [
       "(36.369669080722176, 42.15033091927782)"
      ]
     },
     "execution_count": 15,
     "metadata": {},
     "output_type": "execute_result"
    }
   ],
   "source": [
    "\"\"\"\n",
    "This mean if we were to construct a 95% confidence interval \n",
    "for the sample data it wouldnt capture the population mean of 43\n",
    "\"\"\"\n",
    "sigma = minnesota_ages.std()/math.sqrt(50) # sample stdev/sample size\n",
    "\n",
    "stats.t.interval(alpha = 0.95,  # confidence level\n",
    "                 df=49,  # degree of freedom\n",
    "                 loc=minnesota_ages.mean(), #sample mean\n",
    "                 scale=sigma) # stdev estimate"
   ]
  },
  {
   "cell_type": "code",
   "execution_count": 16,
   "metadata": {},
   "outputs": [
    {
     "data": {
      "text/plain": [
       "(35.40547994092107, 43.11452005907893)"
      ]
     },
     "execution_count": 16,
     "metadata": {},
     "output_type": "execute_result"
    }
   ],
   "source": [
    "\"\"\"\n",
    "on the other hand, since there is a 1.3% chance of seeing the result.\n",
    "If we construct a 99% confidence interval it would capture the pop mean\n",
    "\"\"\"\n",
    "stats.t.interval(alpha = 0.99,  # confidence level\n",
    "                 df=49,  # degree of freedom\n",
    "                 loc=minnesota_ages.mean(), #sample mean\n",
    "                 scale=sigma) # stdev estimate\n"
   ]
  },
  {
   "attachments": {},
   "cell_type": "markdown",
   "metadata": {},
   "source": [
    "### One T-test Case study: JUMIA\n",
    "\n",
    "* Average spending on Jumia is Ksh 450\n",
    "* Null Hypothesis: Average spending on jumia is equal to 450.\n",
    "* Alternate Hypothesis: Average spending on jumia is not equal to 450 \n",
    "\n",
    "$H_O: \\mu = 450 $\n",
    "\n",
    "$H_A: \\mu \\neq 450 $"
   ]
  },
  {
   "cell_type": "code",
   "execution_count": 17,
   "metadata": {},
   "outputs": [],
   "source": [
    "spending = [300, 450, 120, 769, 123, 783, 894, 450, 600, 700]"
   ]
  },
  {
   "cell_type": "code",
   "execution_count": 18,
   "metadata": {},
   "outputs": [],
   "source": [
    "# performing a one sample t-test\n",
    "def one_sample_ttest(data, population_mean):\n",
    "    results = stats.ttest_1samp(a=data, popmean=population_mean)\n",
    "\n",
    "    return results"
   ]
  },
  {
   "cell_type": "code",
   "execution_count": 19,
   "metadata": {},
   "outputs": [
    {
     "data": {
      "text/plain": [
       "Ttest_1sampResult(statistic=0.7893897539068457, pvalue=0.45017923667544657)"
      ]
     },
     "execution_count": 19,
     "metadata": {},
     "output_type": "execute_result"
    }
   ],
   "source": [
    "one_sample_ttest(spending, 450)"
   ]
  },
  {
   "attachments": {},
   "cell_type": "markdown",
   "metadata": {},
   "source": [
    "## Two-sample T-test\n",
    "* investigate whether the means of two independent data samples differ from one another\n",
    "* the NH means that both groups are the same\n",
    "* stats.ttest_ind()\n",
    " "
   ]
  },
  {
   "cell_type": "code",
   "execution_count": 20,
   "metadata": {},
   "outputs": [
    {
     "name": "stdout",
     "output_type": "stream",
     "text": [
      "42.8\n"
     ]
    }
   ],
   "source": [
    "# case study\n",
    "# generate a sample of voter age data for \n",
    "# Wisconsin and test agains the sample earlier\n",
    "\n",
    "np.random.seed(12)\n",
    "wisconsin_ages1 = stats.poisson.rvs(loc = 18, mu =33, size=30)\n",
    "wisconsin_ages2 = stats.poisson.rvs(loc = 18, mu =13, size=20)\n",
    "\n",
    "wisconsin_ages = np.concatenate((wisconsin_ages1, wisconsin_ages2))\n",
    "print(wisconsin_ages.mean())"
   ]
  },
  {
   "cell_type": "code",
   "execution_count": 21,
   "metadata": {},
   "outputs": [
    {
     "data": {
      "text/plain": [
       "Ttest_indResult(statistic=-1.7083870793286842, pvalue=0.09073104343957748)"
      ]
     },
     "execution_count": 21,
     "metadata": {},
     "output_type": "execute_result"
    }
   ],
   "source": [
    "stats.ttest_ind(a=minnesota_ages,\n",
    "                b= wisconsin_ages, \n",
    "                equal_var=False) # assume samples have equal variance"
   ]
  },
  {
   "cell_type": "code",
   "execution_count": 22,
   "metadata": {},
   "outputs": [
    {
     "data": {
      "text/plain": [
       "\"\\np-value of 0.0907 means there is a 9% chance we'd see sample this far\\napart if teh two groups are actually identical\\nif using a confidence level of 95% we would fail to reject the NH hypothesis\\nsince the p-value is greater than the correspnding significance level of 95% \\n\""
      ]
     },
     "execution_count": 22,
     "metadata": {},
     "output_type": "execute_result"
    }
   ],
   "source": [
    "\"\"\"\n",
    "p-value of 0.0907 means there is a 9% chance we'd see sample this far\n",
    "apart if teh two groups are actually identical\n",
    "if using a confidence level of 95% we would fail to reject the NH hypothesis\n",
    "since the p-value is greater than the correspnding significance level of 95% \n",
    "\"\"\""
   ]
  },
  {
   "attachments": {},
   "cell_type": "markdown",
   "metadata": {},
   "source": [
    "### Two sample ttest Case study: \n",
    "\n",
    "$H_O: \\mu{elec} = \\mu{bea} $ (Average electronic spending is equal to average beauty products spending)\n",
    "\n",
    "$H_A: \\mu{elec} \\neq \\mu{bea} $ (Average electronic spending is not equal to average beauty products spending)"
   ]
  },
  {
   "cell_type": "code",
   "execution_count": 23,
   "metadata": {},
   "outputs": [],
   "source": [
    "elec_spending = [300, 450, 120, 769, 123, 783, 894, 450, 600, 700]\n",
    "\n",
    "beauty_spending = [127, 890, 670, 563, 876, 520, 125, 50, 300, 250]"
   ]
  },
  {
   "cell_type": "code",
   "execution_count": 24,
   "metadata": {},
   "outputs": [
    {
     "data": {
      "text/plain": [
       "Ttest_indResult(statistic=0.6217985201241449, pvalue=0.5418706234814599)"
      ]
     },
     "execution_count": 24,
     "metadata": {},
     "output_type": "execute_result"
    }
   ],
   "source": [
    "def two_sample_test(sample_1, sample_2):\n",
    "    results = stats.ttest_ind(a = sample_1, b = sample_2)\n",
    "\n",
    "    return results\n",
    "\n",
    "\n",
    "two_sample_test(elec_spending, beauty_spending)"
   ]
  },
  {
   "attachments": {},
   "cell_type": "markdown",
   "metadata": {},
   "source": [
    "* Since the ```P_value 0.542``` is greater than 0.05, we fail to reject the null hypothesis.\n",
    "* There is sufficient evidence to conclude that the average spending on electronics is equal to average spending on beauty products."
   ]
  },
  {
   "attachments": {},
   "cell_type": "markdown",
   "metadata": {},
   "source": [
    "## Paired T-test\n",
    "two sample t-test -> tests differences between independent  groups\n",
    "\n",
    "* Paired T-test checks whether the samples from the same group differ.i.e samples of the same groups at different points in time\n",
    "* ststs.ttest_rel()\n"
   ]
  },
  {
   "cell_type": "code",
   "execution_count": 25,
   "metadata": {},
   "outputs": [
    {
     "data": {
      "text/html": [
       "<div>\n",
       "<style scoped>\n",
       "    .dataframe tbody tr th:only-of-type {\n",
       "        vertical-align: middle;\n",
       "    }\n",
       "\n",
       "    .dataframe tbody tr th {\n",
       "        vertical-align: top;\n",
       "    }\n",
       "\n",
       "    .dataframe thead th {\n",
       "        text-align: right;\n",
       "    }\n",
       "</style>\n",
       "<table border=\"1\" class=\"dataframe\">\n",
       "  <thead>\n",
       "    <tr style=\"text-align: right;\">\n",
       "      <th></th>\n",
       "      <th>weight_before</th>\n",
       "      <th>weight_after</th>\n",
       "      <th>weight_change</th>\n",
       "    </tr>\n",
       "  </thead>\n",
       "  <tbody>\n",
       "    <tr>\n",
       "      <th>count</th>\n",
       "      <td>100.000000</td>\n",
       "      <td>100.000000</td>\n",
       "      <td>100.000000</td>\n",
       "    </tr>\n",
       "    <tr>\n",
       "      <th>mean</th>\n",
       "      <td>250.449210</td>\n",
       "      <td>251.718835</td>\n",
       "      <td>1.269625</td>\n",
       "    </tr>\n",
       "    <tr>\n",
       "      <th>std</th>\n",
       "      <td>36.572301</td>\n",
       "      <td>36.769049</td>\n",
       "      <td>4.783696</td>\n",
       "    </tr>\n",
       "    <tr>\n",
       "      <th>min</th>\n",
       "      <td>146.520576</td>\n",
       "      <td>144.534063</td>\n",
       "      <td>-8.995286</td>\n",
       "    </tr>\n",
       "    <tr>\n",
       "      <th>25%</th>\n",
       "      <td>224.547354</td>\n",
       "      <td>225.545525</td>\n",
       "      <td>-1.546211</td>\n",
       "    </tr>\n",
       "    <tr>\n",
       "      <th>50%</th>\n",
       "      <td>251.080047</td>\n",
       "      <td>253.423568</td>\n",
       "      <td>1.086537</td>\n",
       "    </tr>\n",
       "    <tr>\n",
       "      <th>75%</th>\n",
       "      <td>276.828289</td>\n",
       "      <td>277.525438</td>\n",
       "      <td>4.238673</td>\n",
       "    </tr>\n",
       "    <tr>\n",
       "      <th>max</th>\n",
       "      <td>334.110303</td>\n",
       "      <td>338.630427</td>\n",
       "      <td>12.259282</td>\n",
       "    </tr>\n",
       "  </tbody>\n",
       "</table>\n",
       "</div>"
      ],
      "text/plain": [
       "       weight_before  weight_after  weight_change\n",
       "count     100.000000    100.000000     100.000000\n",
       "mean      250.449210    251.718835       1.269625\n",
       "std        36.572301     36.769049       4.783696\n",
       "min       146.520576    144.534063      -8.995286\n",
       "25%       224.547354    225.545525      -1.546211\n",
       "50%       251.080047    253.423568       1.086537\n",
       "75%       276.828289    277.525438       4.238673\n",
       "max       334.110303    338.630427      12.259282"
      ]
     },
     "execution_count": 25,
     "metadata": {},
     "output_type": "execute_result"
    }
   ],
   "source": [
    "# case study\n",
    "# generate some dummy patient weight data and do a paired ttest\n",
    "\n",
    "np.random.seed(11)\n",
    "before = stats.norm.rvs(scale=39, loc=250, size=100)\n",
    "after = before + stats.norm.rvs(scale=5, loc=1.25, size=100)\n",
    "\n",
    "weight_df = pd.DataFrame({\"weight_before\": before,\n",
    "                          \"weight_after\": after,\n",
    "                          \"weight_change\": after - before})\n",
    "weight_df.describe()"
   ]
  },
  {
   "cell_type": "code",
   "execution_count": 26,
   "metadata": {},
   "outputs": [
    {
     "data": {
      "text/plain": [
       "Ttest_relResult(statistic=-2.6540671054984095, pvalue=0.009266778228120713)"
      ]
     },
     "execution_count": 26,
     "metadata": {},
     "output_type": "execute_result"
    }
   ],
   "source": [
    "stats.ttest_rel(a=before, b=after)"
   ]
  },
  {
   "cell_type": "code",
   "execution_count": 27,
   "metadata": {},
   "outputs": [
    {
     "data": {
      "text/plain": [
       "'\\nPatients lost 1.26 pounds on avg after treatment. \\nConduct a paired ttest to see whether this difference\\n is significant at a 95% confidence\\n'"
      ]
     },
     "execution_count": 27,
     "metadata": {},
     "output_type": "execute_result"
    }
   ],
   "source": [
    "\"\"\"\n",
    "Patients lost 1.26 pounds on avg after treatment. \n",
    "Conduct a paired ttest to see whether this difference\n",
    " is significant at a 95% confidence\n",
    "\"\"\""
   ]
  },
  {
   "attachments": {},
   "cell_type": "markdown",
   "metadata": {},
   "source": [
    "CONCLUSIONS:\n",
    "* p-value: \n",
    "The probability of observing a test statistic at least as large as the one observed, by random chance, assuming that the null hypothesis is true.\n",
    "A low p-value means that either the null hypothesis is false or the null hypothesis is true and a highly improbable event has occurred.\n",
    "\n",
    "* alpha value: \n",
    "The marginal threshold at which you're okay with agreeing that the null hypothesis is implausible enough to be rejected.\n",
    "\n",
    "* p < alpha : reject the null hypothesis in favor for the alternative\n",
    "* p > alpha: fail to reject the null hypothesis"
   ]
  },
  {
   "attachments": {},
   "cell_type": "markdown",
   "metadata": {},
   "source": [
    "# Paired sample ttest: \n",
    "$H_O: \\mu{before} = \\mu{after} $ (Average score before and After Tution is equal)\n",
    "\n",
    "$H_A: \\mu{before} \\neq \\mu{after} $ (Average score before before and after Tution is not equal)\n"
   ]
  },
  {
   "cell_type": "code",
   "execution_count": 28,
   "metadata": {},
   "outputs": [],
   "source": [
    "results_before = [2, 5, 3, 4, 1, 5, 7, 5, 6, 4]\n",
    "\n",
    "results_after = [7, 9, 8, 6, 9, 6, 8, 9, 8, 9]"
   ]
  },
  {
   "cell_type": "code",
   "execution_count": 29,
   "metadata": {},
   "outputs": [
    {
     "data": {
      "text/plain": [
       "Ttest_relResult(statistic=-5.285714285714286, pvalue=0.000503279857416423)"
      ]
     },
     "execution_count": 29,
     "metadata": {},
     "output_type": "execute_result"
    }
   ],
   "source": [
    "def paired_test(before, after, alternative):\n",
    "    \"\"\"A function to test hpothesis between two related scores.\"\"\"\n",
    "    results = stats.ttest_rel(a=before, b=after)\n",
    "\n",
    "    return results\n",
    "\n",
    "\n",
    "paired_test(results_before, results_after, \"two-sided\")"
   ]
  },
  {
   "attachments": {},
   "cell_type": "markdown",
   "metadata": {},
   "source": [
    "* Since the ```p_value 0.0005``` is less that $\\alpha$ ```0.05```, we reject the null Hypothesis.\n",
    "\n",
    "* There is suffient evidence that the tuition was effective.\n",
    "* The alternative defines the alternative hypothesis. The following options are available **(default is ‘two-sided’)**:\n",
    "\n",
    ">>>>**‘two-sided’**: the means of the distributions underlying the samples are unequal.\n",
    "\n",
    ">>>>**‘less’**: the mean of the distribution underlying the first sample is less than the mean of the distribution underlying the second sample.\n",
    "\n",
    ">>>>**‘greater’**: the mean of the distribution underlying the first sample is greater than the mean of the distribution underlying the second sample.\n",
    "\n",
    "Read more [here](https://docs.scipy.org/doc/scipy/reference/generated/scipy.stats.ttest_rel.html). "
   ]
  },
  {
   "attachments": {},
   "cell_type": "markdown",
   "metadata": {},
   "source": [
    "## Type 1 and Type 2 error\n",
    "1. Type 1 \n",
    "* describes a situation the NH is actually true = FALSE POSITIVE\n",
    "* error rate is equal to the significance level(alpha)\n",
    "* setting a higher confidence level(and lower alpha) reduces the chances of getting a FP error\n",
    "2. Type 2 \n",
    "* where you fail to reject the NH when it is actually true\n",
    "* FALSE NEGATIVE/ myth\n",
    "* the higher the confidence level(thus lower alpha) reduces the chances of getting FN error\n",
    "\n",
    "# rewatch: 15mins: https://youtu.be/CIbJSX-biu0?list=RDCMUCwuvoN0QKjrXUi48G_Hv7kQ\n"
   ]
  },
  {
   "attachments": {},
   "cell_type": "markdown",
   "metadata": {},
   "source": [
    "# STATISTICAL POWER AND ANOVA"
   ]
  },
  {
   "attachments": {},
   "cell_type": "markdown",
   "metadata": {},
   "source": [
    "# AB TESTING\n",
    "A/B testing? A/B testing (also known as split testing or bucket testing) is a methodology for comparing two versions of a webpage or app against each other to determine which one performs better.\n",
    "\n",
    "STEPS:\n",
    "1. Choosing a metric\n",
    "This will determine everything from what metrics are deemed important to realistically obtainable sample sizes. Goodheart's law can also be an important consideration when performing ongoing tests in attempts to optimize performance metrics.\n",
    "2. Defining the Null Hypothesis: $H_0$\n",
    " the null hypothesis is the claim that a researcher is hoping to refute\n",
    "3. Investigating $\\alpha$\n",
    ", power, effect size, and sample size"
   ]
  },
  {
   "cell_type": "markdown",
   "metadata": {},
   "source": []
  },
  {
   "cell_type": "markdown",
   "metadata": {},
   "source": []
  },
  {
   "cell_type": "markdown",
   "metadata": {},
   "source": []
  },
  {
   "cell_type": "code",
   "execution_count": null,
   "metadata": {},
   "outputs": [],
   "source": [
    "\n"
   ]
  }
 ],
 "metadata": {
  "kernelspec": {
   "display_name": "learn-env",
   "language": "python",
   "name": "python3"
  },
  "language_info": {
   "codemirror_mode": {
    "name": "ipython",
    "version": 3
   },
   "file_extension": ".py",
   "mimetype": "text/x-python",
   "name": "python",
   "nbconvert_exporter": "python",
   "pygments_lexer": "ipython3",
   "version": "3.8.5"
  },
  "orig_nbformat": 4
 },
 "nbformat": 4,
 "nbformat_minor": 2
}
