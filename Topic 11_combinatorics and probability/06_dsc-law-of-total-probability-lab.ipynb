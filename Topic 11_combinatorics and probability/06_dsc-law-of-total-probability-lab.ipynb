{
 "cells": [
  {
   "cell_type": "markdown",
   "metadata": {},
   "source": [
    "# Partitioning and Law of Total Probability - Lab\n",
    "\n",
    "## Introduction \n",
    "In this lab, you'll practice your knowledge of the law of total probability. In probability theory, the law (or formula) of total probability is a fundamental rule relating **marginal probabilities** to **conditional probabilities**.\n",
    "\n",
    "## Objectives\n",
    "\n",
    "You will be able to:\n",
    "\n",
    "* Differentiate between independent and dependent events\n",
    "* Perform partitioning based on known and unknown probabilities to solve a problem"
   ]
  },
  {
   "cell_type": "markdown",
   "metadata": {},
   "source": [
    "## Exercise 1\n",
    "Imagine you have two hats: one has 4 red balls and 6 green balls, the other has 6 red and 4 green. We toss a fair coin, if heads, you will pick a random ball from the first hat, if tails you will pick one from the second hat. \n",
    "\n",
    "What is the probability of getting a red ball?"
   ]
  },
  {
   "cell_type": "code",
   "execution_count": 1,
   "metadata": {},
   "outputs": [
    {
     "data": {
      "text/plain": [
       "0.5"
      ]
     },
     "execution_count": 1,
     "metadata": {},
     "output_type": "execute_result"
    }
   ],
   "source": [
    "# Hat 1 -> 4/10 red\n",
    "# Hat 2 -> 6/10 red\n",
    "# fair die -> 5/10 for either h o t\n",
    "# event A -coin flip\n",
    "# event B -> hat draw\n",
    "\n",
    "# p(B) = p(B|A)*p(A) + p(B|A`)*p(A`)\n",
    "prob_red = (4/10)*(.5) + (6/10)*(.5)\n",
    "prob_red"
   ]
  },
  {
   "cell_type": "markdown",
   "metadata": {},
   "source": [
    "## Exercise 2\n",
    "In games where at least one goal is made, a soccer team wins 60% of its games when it scores the first goal, and 10% of its games when the opposing team \n",
    "scores first. \n",
    "\n",
    "If the team scores the first goal about 30% of the time, what fraction of the games does it win?"
   ]
  },
  {
   "cell_type": "code",
   "execution_count": 2,
   "metadata": {},
   "outputs": [
    {
     "data": {
      "text/plain": [
       "0.25"
      ]
     },
     "execution_count": 2,
     "metadata": {},
     "output_type": "execute_result"
    }
   ],
   "source": [
    "# p(B) = p(B_given_A)*p(A) + p(B_given_A`)*p(A`)\n",
    "\n",
    "# p(B_given_A) = p(win_if_they_score_first) = 6/10 \n",
    "p_B_given_A = 6/10\n",
    "\n",
    "# p(B_given_A`) -> p(win_if_others_score_first) = 1/10\n",
    "p_B_given_Acomp = 1/10\n",
    "\n",
    "# p(A) = they_score_first = 3/10\n",
    "p_A = 3/10\n",
    "\n",
    "# p(A`) = others_score_first = 7/10\n",
    "p_Acomp = 7/10\n",
    "\n",
    "prob_wins = (p_B_given_A*p_A) + (p_B_given_Acomp*p_Acomp) \n",
    "prob_wins"
   ]
  },
  {
   "cell_type": "markdown",
   "metadata": {},
   "source": [
    "## Exercise 3"
   ]
  },
  {
   "cell_type": "markdown",
   "metadata": {},
   "source": [
    "In Europe, except for regular gas, cars often run on diesel as well. At a gas station in Paris; \n",
    "\n",
    "\n",
    "* 40% of the customers fill up with diesel (event G1) \n",
    "* 35% with gas \"Super 95\" (event G2)\n",
    "* 25% with gas \"Super 98\" (event G3). \n",
    "\n",
    "\n",
    "* 30% of the customers who buy diesel fill their tank completely (event F). \n",
    "* For \"Super 95\" and \"Super 98\", these numbers are  60% and 50%, respectively.\n",
    "\n",
    "\n",
    "- Compute the probability that the next customer completely fills their tank and buys Super 95. \n",
    "- Compute the probability that the next customer completely fills their tank\n",
    "- Given that the next customer fills their tank completely, compute the probability that they bought diesel. \n",
    "\n",
    "Hint: Consult the theorems for conditional probability, check for dependence or independence of events"
   ]
  },
  {
   "cell_type": "code",
   "execution_count": 3,
   "metadata": {},
   "outputs": [],
   "source": [
    "# G1 -> diesel= 0.4\n",
    "p_G1 = 0.4\n",
    "# p(fill|G1) = 0.3\n",
    "p_fill_given_G1 = 0.3\n",
    "\n",
    "# G2 -> super95 = 0.35\n",
    "p_G2 = 0.35\n",
    "# p(fill|G2) = 0.6\n",
    "p_fill_given_G2 = 0.6\n",
    "\n",
    "# G3 -> super98 = 0.25\n",
    "p_G3 = 0.25\n",
    "# p(fill|G3) = 0.5\n",
    "p_fill_given_G3 = 0.5\n"
   ]
  },
  {
   "cell_type": "code",
   "execution_count": 4,
   "metadata": {},
   "outputs": [
    {
     "data": {
      "text/plain": [
       "0.21"
      ]
     },
     "execution_count": 4,
     "metadata": {},
     "output_type": "execute_result"
    }
   ],
   "source": [
    "# Q1\n",
    "prob_fills_and_G2 = p_fill_given_G2 * p_G2\n",
    "prob_fills_and_G2"
   ]
  },
  {
   "cell_type": "code",
   "execution_count": 5,
   "metadata": {},
   "outputs": [
    {
     "data": {
      "text/plain": [
       "0.45499999999999996"
      ]
     },
     "execution_count": 5,
     "metadata": {},
     "output_type": "execute_result"
    }
   ],
   "source": [
    "# Q2 : probability next fills\n",
    "# p(fill) = sum of p(fill|G(1,2,3))*p(G(1,2,3))\n",
    "prob_fills_and_G1 = p_fill_given_G1 * p_G1\n",
    "prob_fills_and_G3= p_fill_given_G3 * p_G3\n",
    "\n",
    "prob_fills = prob_fills_and_G1 + prob_fills_and_G2 + prob_fills_and_G3\n",
    "prob_fills"
   ]
  },
  {
   "cell_type": "code",
   "execution_count": 6,
   "metadata": {},
   "outputs": [],
   "source": [
    "# Q3: \n",
    "# have:\n",
    "    # p(fill|G1): prob_fills_and_G1\n",
    "    # p(fill): prob_fills\n",
    "    # p(G1): p_G1\n",
    "    # p(fill & G1): p_fill_and_G1\n",
    "# need:\n",
    "    # p(G1|FILL): p_G1_given_FILL"
   ]
  },
  {
   "cell_type": "code",
   "execution_count": 7,
   "metadata": {},
   "outputs": [
    {
     "data": {
      "text/plain": [
       "0.26373626373626374"
      ]
     },
     "execution_count": 7,
     "metadata": {},
     "output_type": "execute_result"
    }
   ],
   "source": [
    "# finding p(G1|fill) using p(fill & G1) and p(fill)\n",
    "\n",
    "# Conditional Probability\n",
    "# p(G1|fill) = p(fill & G1)/p(fill)\n",
    "\n",
    "p_G1_given_fill = prob_fills_and_G1/prob_fills\n",
    "p_G1_given_fill"
   ]
  },
  {
   "cell_type": "code",
   "execution_count": 8,
   "metadata": {},
   "outputs": [
    {
     "data": {
      "text/plain": [
       "0.26373626373626374"
      ]
     },
     "execution_count": 8,
     "metadata": {},
     "output_type": "execute_result"
    }
   ],
   "source": [
    "# finding p(G1|fill) using p(fill|G1), p(G1), and p(fill)\n",
    "\n",
    "# Bayes Rule\n",
    "# p(G1|FILL) = (p(FILL|G1)*p(G1)) / p(fill)\n",
    "\n",
    "p_G1_Diesel_given_fill = (p_fill_given_G1*p_G1)/prob_fills\n",
    "p_G1_Diesel_given_fill"
   ]
  },
  {
   "cell_type": "markdown",
   "metadata": {},
   "source": [
    "## Exercise 4"
   ]
  },
  {
   "cell_type": "code",
   "execution_count": null,
   "metadata": {},
   "outputs": [],
   "source": []
  },
  {
   "cell_type": "markdown",
   "metadata": {},
   "source": [
    "United Airlines operates flights from JFK to Amsterdam, to Brussels, and to Copenhagen. As you may know, flights are overbooked fairly often. Let's denote the probability of the flight to Amsterdam being overbooked equal to 40%, the probability of the flight to Brussels being overbooked equal to 25%, and the probability of the flight to Copenhagen being overbooked equal to 35%. You can assume that these events of overbooking are independent events."
   ]
  },
  {
   "cell_type": "markdown",
   "metadata": {},
   "source": [
    "- Compute the probability that all the flights are overbooked.\n",
    "- Compute the probability of having at least one flight which is not overbooked.\n",
    "- Compute the probability that exactly one flight is overbooked."
   ]
  },
  {
   "cell_type": "code",
   "execution_count": 9,
   "metadata": {},
   "outputs": [],
   "source": [
    "# flight to Amsterdam being overbooked\n",
    "p_A = .4\n",
    "p_A_not = 1-p_A\n",
    "\n",
    "# flight to Brussels being overbooked\n",
    "p_B = .25\n",
    "p_B_not = 1-p_B\n",
    "\n",
    "# flight to Copenhagen being overbooked\n",
    "p_C = .35\n",
    "p_C_not = 1-p_C"
   ]
  },
  {
   "cell_type": "code",
   "execution_count": 10,
   "metadata": {},
   "outputs": [
    {
     "data": {
      "text/plain": [
       "0.034999999999999996"
      ]
     },
     "execution_count": 10,
     "metadata": {},
     "output_type": "execute_result"
    }
   ],
   "source": [
    "# Compute the probability that all the flights are overbooked.\n",
    "p_ALL = p_A*p_B*p_C\n",
    "p_ALL"
   ]
  },
  {
   "cell_type": "code",
   "execution_count": 11,
   "metadata": {},
   "outputs": [
    {
     "data": {
      "text/plain": [
       "0.965"
      ]
     },
     "execution_count": 11,
     "metadata": {},
     "output_type": "execute_result"
    }
   ],
   "source": [
    "# Compute the probability of having at least one flight which is not overbooked.\n",
    "# any other scenerio other than ALL being overbooked\n",
    "p_NOT_all = 1-p_ALL\n",
    "p_NOT_all"
   ]
  },
  {
   "cell_type": "code",
   "execution_count": 12,
   "metadata": {},
   "outputs": [
    {
     "data": {
      "text/plain": [
       "0.45"
      ]
     },
     "execution_count": 12,
     "metadata": {},
     "output_type": "execute_result"
    }
   ],
   "source": [
    "# Compute the probability that exactly one flight is overbooked.\n",
    "\n",
    "# all the ways to have just one:\n",
    "# (A_over, B_not, C_not), (A_not, B_over, C_not), (A_not, B_not, C_over)\n",
    "p_A_over = p_A*p_B_not*p_C_not\n",
    "p_B_over = p_A_not*p_B*p_C_not\n",
    "p_C_over = p_A_not*p_B_not*p_C\n",
    "\n",
    "# these probabilities are mutually exclusive so:\n",
    "# p(A union B union C) = p(A) + p(B) + p(C)\n",
    "p_one_overbooked = p_A_over+p_B_over+p_C_over\n",
    "p_one_overbooked"
   ]
  },
  {
   "cell_type": "markdown",
   "metadata": {},
   "source": [
    "## Exercise 5\n",
    "You have three bags that each contain 100 marbles:\n",
    "\n",
    "- Bag 1 has 75 red and 25 blue marbles;\n",
    "- Bag 2 has 60 red and 40 blue marbles;\n",
    "- Bag 3 has 45 red and 55 blue marbles.\n",
    "\n",
    "You choose one of the bags at random and then pick a marble from the chosen bag, also at random. \n",
    "\n",
    "What is the probability that the chosen marble is red?\n"
   ]
  },
  {
   "cell_type": "code",
   "execution_count": 13,
   "metadata": {},
   "outputs": [
    {
     "data": {
      "text/plain": [
       "0.6"
      ]
     },
     "execution_count": 13,
     "metadata": {},
     "output_type": "execute_result"
    }
   ],
   "source": [
    "# probability that the chosen marble is red\n",
    "# p(Red|Bag1)\n",
    "p_red_given_bag1 = .75\n",
    "p_bag1 = 1/3\n",
    "use_for_SUMof1 = p_red_given_bag1*p_bag1\n",
    "\n",
    "# p(Red|Bag2)\n",
    "p_red_given_bag2 = .6\n",
    "p_bag2 = 1/3\n",
    "use_for_SUMof2 = p_red_given_bag2*p_bag2\n",
    "\n",
    "# p(Red|Bag3)\n",
    "p_red_given_bag3 = .45\n",
    "p_bag3 = 1/3\n",
    "use_for_SUMof3 = p_red_given_bag3*p_bag3\n",
    "\n",
    "# p(Red) = SUMof p(Red|Bag_num)*p(Bag_num)\n",
    "p_Red = use_for_SUMof1+use_for_SUMof2+use_for_SUMof3\n",
    "p_Red"
   ]
  },
  {
   "cell_type": "markdown",
   "metadata": {},
   "source": [
    "## Summary \n",
    "\n",
    "In this lab, you practiced conditional probability and its theorem with some simple problems. The key takeaway from this lab is to be able to identify random events as dependent or independent and calculating the probability of their occurrence using appropriate methods. Next, you'll take this knowledge a step further and run simulations with conditional and total probability. "
   ]
  }
 ],
 "metadata": {
  "kernelspec": {
   "display_name": "saturn (Python 3)",
   "language": "python",
   "name": "python3"
  },
  "language_info": {
   "codemirror_mode": {
    "name": "ipython",
    "version": 3
   },
   "file_extension": ".py",
   "mimetype": "text/x-python",
   "name": "python",
   "nbconvert_exporter": "python",
   "pygments_lexer": "ipython3",
   "version": "3.10.6"
  },
  "toc": {
   "base_numbering": 1,
   "nav_menu": {},
   "number_sections": true,
   "sideBar": true,
   "skip_h1_title": false,
   "title_cell": "Table of Contents",
   "title_sidebar": "Contents",
   "toc_cell": false,
   "toc_position": {},
   "toc_section_display": true,
   "toc_window_display": false
  }
 },
 "nbformat": 4,
 "nbformat_minor": 2
}
